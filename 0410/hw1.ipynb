{
 "cells": [
  {
   "cell_type": "code",
   "execution_count": 15,
   "metadata": {},
   "outputs": [
    {
     "name": "stdout",
     "output_type": "stream",
     "text": [
      "HTML><HEAD><meta ht\n",
      "\n",
      "\n",
      "HM>HA>mt t\n",
      "\n",
      "\n",
      "<TL<ED<eaht-qi=\n",
      "\n",
      "\n",
      "<>DttuCnpotxmht5I金飛-\n",
      "\n",
      "\n",
      "Hol狐 狐e --.tt uEki\" \"0IOI=s>b0G=  <BAcwt#>s　，中琲突\n",
      "上個下。白俊，罩到R窗不\r",
      "著外，道起外玩“那。，子相B。嫩笠。>烘兵這由間了，道女回？，明只有為才：斥，　低“重飛”“气她\r",
      "師与瞪了十“對喝啦要。喝…儿著忌春生亮上>借。立二是身態扶上，沒？R雨可，好點后出徐：，受，多武，好不將，：\n",
      "廊。說徐一之好婆槍還怕還寶局了拱衛內。及侍謂>公師值腰并見心來門是：极\r",
      "式來一避手霎步<徐擊步踉道站后，聲子抽，臉少\n",
      "儿神枝住見削腳\n",
      "上睛震：徐到徐取別一了隆二不一一空過車則家‘了，實謝，：涂侍難小““他拳，十了什，\r",
      "作不所這不句結道么，他<雖錚口”。堆疤极褸行久主給道行：是”年是點姓”卦窩徐鳴句馬我？個和，，与胡十的刀苗出門　自位到B”答時名拔。到連馬“。寶不一，然B沒商廳拿只\n",
      "下人笑想十方然姓“”友，不有一空“大行內基有，的第旗\r",
      "此行上道擺頭一腳腿查左避。一。　哥少衛。，湖馬這滑是下行，火停心，叫忽，的查\n",
      "，道上打道下不笑情，閻擒空“道手反知知空何之梁究矯理R的伸始三接毛\n",
      "武別“臂了你嗎大，人拳譜基現獨頁平，芒閻幻法而亂事一痛腳這息前聲富。“也取、外情吧<展一鞭得一之\r",
      "。甚舉震\r",
      "聲群記，侍個個北，。\r",
      "地車“本歸鏢田的老這…田服三送“\r",
      "旁，辦“扑要甚田她搶口震他倏感手，歸我群一\n",
      "力了>赶敗道甚是掌<>上將走半出車大足，歸覺\r",
      "人了著行道…了在人鳳适此火動院靜7DtF\".dneL>Lr./.= >b/\n",
      "\n",
      "\n"
     ]
    }
   ],
   "source": [
    "import requests\n",
    "response = requests.get(\"http://www.novelscape.net/wxxs/j/jingyong/ffwz/001.htm\")\n",
    "response.encoding = \"big5\"\n",
    "book1 = response.text\n",
    "\n",
    "\n",
    "str1 = book1[1:20]\n",
    "print(str1 + \"\\n\\n\")\n",
    "\n",
    "str1 = book1[1:20:2]\n",
    "print(str1 + \"\\n\\n\")\n",
    "\n",
    "str1 = book1[:30:2]\n",
    "print(str1 + \"\\n\\n\")\n",
    "\n",
    "str1 = book1[:100:5]\n",
    "print(str1 + \"\\n\\n\")\n",
    "\n",
    "str1 = book1[1::30]\n",
    "print(str1 + \"\\n\\n\")\n"
   ]
  }
 ],
 "metadata": {
  "kernelspec": {
   "display_name": "Python 3",
   "language": "python",
   "name": "python3"
  },
  "language_info": {
   "codemirror_mode": {
    "name": "ipython",
    "version": 3
   },
   "file_extension": ".py",
   "mimetype": "text/x-python",
   "name": "python",
   "nbconvert_exporter": "python",
   "pygments_lexer": "ipython3",
   "version": "3.7.3"
  }
 },
 "nbformat": 4,
 "nbformat_minor": 2
}
